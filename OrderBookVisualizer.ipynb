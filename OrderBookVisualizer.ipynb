{
 "cells": [
  {
   "cell_type": "code",
   "execution_count": 1,
   "metadata": {},
   "outputs": [
    {
     "data": {
      "text/html": [
       "<style>.container { width:100% !important; }</style>"
      ],
      "text/plain": [
       "<IPython.core.display.HTML object>"
      ]
     },
     "metadata": {},
     "output_type": "display_data"
    }
   ],
   "source": [
    "import sys\n",
    "import pyodbc\n",
    "import datetime as dt\n",
    "import pandas as pd\n",
    "import numpy as np\n",
    "import matplotlib.pyplot as plt\n",
    "import time\n",
    "from datetime import date\n",
    "\n",
    "from mpl_toolkits.mplot3d import Axes3D\n",
    "\n",
    "from __future__ import print_function\n",
    "from ipywidgets import interact, interactive, fixed, interact_manual\n",
    "import ipywidgets as widgets\n",
    "\n",
    "from IPython.core.display import display, HTML\n",
    "display(HTML(\"<style>.container { width:100% !important; }</style>\"))"
   ]
  },
  {
   "cell_type": "markdown",
   "metadata": {},
   "source": [
    "## Get Prices and OrderBook"
   ]
  },
  {
   "cell_type": "code",
   "execution_count": 2,
   "metadata": {},
   "outputs": [
    {
     "name": "stdout",
     "output_type": "stream",
     "text": [
      "Prices retrieved: 8344\n",
      "Order book entires retrieved: 782626\n",
      "Min pt: 1534823701001, Max pt: 1534823999796\n"
     ]
    }
   ],
   "source": [
    "cnxn = pyodbc.connect(open('credentials.xxx').readline())\n",
    "\n",
    "#T20 Blast : Hampshire v Gloucestershire\n",
    "#marketId = '1.146783532' \n",
    "\n",
    "#WI vs Bangladesh\n",
    "#marketId = '1.146397585'\n",
    "\n",
    "#Ireland v Afghanistan 21 Aug 2018\n",
    "marketId = '1.146874135'\n",
    "\n",
    "#Ireland v Afghanistan 23 Aug 2018\n",
    "#marketId = '1.147011046'\n",
    "\n",
    "minTime = '21 Aug 2018 03:55'\n",
    "maxTime = '21 Aug 2018 04:00'\n",
    "\n",
    "pricesSql = \"select R.Name, P.*, M.NumberOfActiveRunners from [dbo].[Price] P inner join [dbo].[Runner] R on R.BetFairMarketId = P.BetFairMarketId and R.RunnerId = P.RunnerId \" + \\\n",
    "    \"inner join dbo.Market M on M.BetFairMarketId = P.BetFairMarketId where R.BetFairMarketId in(\" \\\n",
    "    + marketId + \") \"+ \" and dateadd(s, pt / 1000, {d '1970-01-01'}) > '\" + minTime + \"' and dateadd(s, pt / 1000, {d '1970-01-01'}) < '\" + maxTime + \"'\" + \\\n",
    "    \" order by M.BetFairMarketId, R.Name, M.StartTime\"\n",
    "    \n",
    "orderBookSql = \"select * from OrderBook where BetFairMarketId = \" + marketId + \" and dateadd(s, pt / 1000, {d '1970-01-01'}) > '\" + minTime + \"' and dateadd(s, pt / 1000, {d '1970-01-01'}) < '\" + maxTime + \"'\"\n",
    "    \n",
    "prices = pd.read_sql(pricesSql,cnxn)\n",
    "orderBook = pd.read_sql(orderBookSql,cnxn)\n",
    "\n",
    "prices['dt'] = prices['pt'].apply(lambda x: dt.datetime.fromtimestamp(x/1000.0))\n",
    "orderBook['dt'] = orderBook['pt'].apply(lambda x: dt.datetime.fromtimestamp(x/1000.0))\n",
    "\n",
    "print ('Prices retrieved: %d'%(prices.shape[0]))\n",
    "print ('Order book entires retrieved: %d'%(orderBook.shape[0]))\n",
    "\n",
    "print ('Min pt: %d, Max pt: %d'%(prices['pt'].min(), prices['pt'].max()))"
   ]
  },
  {
   "cell_type": "code",
   "execution_count": 3,
   "metadata": {
    "collapsed": true
   },
   "outputs": [],
   "source": [
    "pt = 1534545024208\n",
    "\n",
    "def f(pt):\n",
    "    teams = prices.Name.unique()\n",
    "    \n",
    "    previousPt = prices.loc[prices['pt'] < pt]['pt'].max()\n",
    "    nextPt = prices.loc[prices['pt'] > pt]['pt'].min()\n",
    "\n",
    "    previousTime = dt.datetime.fromtimestamp(previousPt/1000.0)\n",
    "    nextTime = dt.datetime.fromtimestamp(nextPt/1000.0)\n",
    "\n",
    "    print ('previousPt: %d, nextPt: %d'%(previousPt, nextPt))\n",
    "    print ('previousTime: %s, nextTime: %s'% (previousTime, nextTime))\n",
    "    \n",
    "    print ('Last price for %s: %f'%(teams[0], prices.loc[(prices['pt'] == previousPt) & (prices['Name'] == teams[0])]['ltp']))\n",
    "    print ('Last price for %s: %f'%(teams[1], prices.loc[(prices['pt'] == previousPt) & (prices['Name'] == teams[1])]['ltp']))\n",
    "    \n",
    "\n",
    "    plt.figure(figsize=(20, 4))\n",
    "    \n",
    "    teamDfs = {}\n",
    "    colors = ['r', 'b']\n",
    "    ix = 0\n",
    "\n",
    "    pricesBeforePt = prices.loc[prices['pt'] < pt]\n",
    "\n",
    "    for team in teams:\n",
    "        #filter to one teams data only\n",
    "        teamData = pricesBeforePt.loc[pricesBeforePt['Name'] == team].copy()\n",
    "\n",
    "        #sort\n",
    "        teamData.sort_values('pt', inplace=True)\n",
    "\n",
    "        #add calculated cols\n",
    "        teamData['prob'] = teamData['ltp'].apply(lambda x: 1/x)\n",
    "\n",
    "        #plot\n",
    "        plt.plot(teamData.dt, teamData.prob, color=colors[ix])\n",
    "        ix = ix + 1\n",
    "\n",
    "    plt.legend(teams, loc='upper left')    \n",
    "    plt.show()\n",
    "    ix = 0\n",
    "\n",
    "    for team in teams:\n",
    "        print(team)\n",
    "        runnerId = prices.loc[prices['Name'] == team].RunnerId.iloc[0]\n",
    "\n",
    "\n",
    "        orderBookForRunnerAtPt = orderBook.loc[orderBook['pt'] == nextPt]\n",
    "        orderBookForRunnerAtPt = orderBookForRunnerAtPt.loc[orderBookForRunnerAtPt['RunnerId'] == runnerId]\n",
    "\n",
    "        #fig, (ax1, ax2, ax3) = plt.subplots(ncols=3, figsize=(20,3), sharey=True)\n",
    "        fig, (ax1, ax2) = plt.subplots(ncols=2, figsize=(20,2.5), sharey=True)\n",
    "\n",
    "        orderBookForRunnerAtPt.loc[orderBookForRunnerAtPt['Type'] == 1].sort_values('Price').plot.bar(x='Price', y='Size', title='Back', ax=ax1, color = colors[ix])\n",
    "        orderBookForRunnerAtPt.loc[orderBookForRunnerAtPt['Type'] == 2].sort_values('Price').plot.bar(x='Price', y='Size', title='Lay', ax=ax2, color = colors[ix])\n",
    "        #orderBookForRunnerAtPt.loc[orderBookForRunnerAtPt['Type'] == 0].sort_values('Price').plot.bar(x='Price', y='Size', title='Trade', ax=ax2, color = colors[ix])\n",
    "\n",
    "        ix = ix + 1\n",
    "\n",
    "        plt.show()"
   ]
  },
  {
   "cell_type": "code",
   "execution_count": 4,
   "metadata": {
    "scrolled": false
   },
   "outputs": [
    {
     "data": {
      "application/vnd.jupyter.widget-view+json": {
       "model_id": "d2d78770278541999a6073526e3d2943",
       "version_major": 2,
       "version_minor": 0
      },
      "text/plain": [
       "A Jupyter Widget"
      ]
     },
     "metadata": {},
     "output_type": "display_data"
    },
    {
     "data": {
      "text/plain": [
       "<function __main__.f>"
      ]
     },
     "execution_count": 4,
     "metadata": {},
     "output_type": "execute_result"
    }
   ],
   "source": [
    "min = prices['pt'].min()\n",
    "max = prices['pt'].max()\n",
    "init = min + (max-min)/1.2\n",
    "\n",
    "slider = widgets.IntSlider(min=min, max=max, step=10, continuous_update=False, value=init )\n",
    "interact(f, pt= slider)"
   ]
  }
 ],
 "metadata": {
  "kernelspec": {
   "display_name": "Python 3",
   "language": "python",
   "name": "python3"
  },
  "language_info": {
   "codemirror_mode": {
    "name": "ipython",
    "version": 3
   },
   "file_extension": ".py",
   "mimetype": "text/x-python",
   "name": "python",
   "nbconvert_exporter": "python",
   "pygments_lexer": "ipython3",
   "version": "3.6.3"
  }
 },
 "nbformat": 4,
 "nbformat_minor": 2
}
