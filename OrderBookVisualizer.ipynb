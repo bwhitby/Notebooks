{
 "cells": [
  {
   "cell_type": "code",
   "execution_count": 1,
   "metadata": {},
   "outputs": [
    {
     "data": {
      "text/html": [
       "<style>.container { width:100% !important; }</style>"
      ],
      "text/plain": [
       "<IPython.core.display.HTML object>"
      ]
     },
     "metadata": {},
     "output_type": "display_data"
    }
   ],
   "source": [
    "import sys\n",
    "import pyodbc\n",
    "import datetime as dt\n",
    "import pandas as pd\n",
    "import numpy as np\n",
    "import matplotlib.pyplot as plt\n",
    "import time\n",
    "from datetime import date\n",
    "\n",
    "from mpl_toolkits.mplot3d import Axes3D\n",
    "\n",
    "from __future__ import print_function\n",
    "from ipywidgets import interact, interactive, fixed, interact_manual\n",
    "import ipywidgets as widgets\n",
    "\n",
    "from IPython.core.display import display, HTML\n",
    "display(HTML(\"<style>.container { width:100% !important; }</style>\"))"
   ]
  },
  {
   "cell_type": "markdown",
   "metadata": {},
   "source": [
    "## Get Prices and OrderBook"
   ]
  },
  {
   "cell_type": "code",
   "execution_count": 2,
   "metadata": {},
   "outputs": [
    {
     "name": "stdout",
     "output_type": "stream",
     "text": [
      "Prices retrieved: 8344\n",
      "Order book entires retrieved: 782626\n",
      "Min pt: 1534823701001, Max pt: 1534823999796\n"
     ]
    }
   ],
   "source": [
    "cnxn = pyodbc.connect(open('credentials.xxx').readline())\n",
    "\n",
    "#T20 Blast : Hampshire v Gloucestershire\n",
    "#marketId = '1.146783532' \n",
    "\n",
    "#WI vs Bangladesh\n",
    "#marketId = '1.146397585'\n",
    "\n",
    "#Ireland v Afghanistan 21 Aug 2018\n",
    "marketId = '1.146874135'\n",
    "\n",
    "#Ireland v Afghanistan 23 Aug 2018\n",
    "#marketId = '1.147011046'\n",
    "\n",
    "minTime = '21 Aug 2018 03:55'\n",
    "maxTime = '21 Aug 2018 04:00'\n",
    "\n",
    "pricesSql = \"select R.Name, P.*, M.NumberOfActiveRunners from [dbo].[Price] P inner join [dbo].[Runner] R on R.BetFairMarketId = P.BetFairMarketId and R.RunnerId = P.RunnerId \" + \\\n",
    "    \"inner join dbo.Market M on M.BetFairMarketId = P.BetFairMarketId where R.BetFairMarketId in(\" \\\n",
    "    + marketId + \") \"+ \" and dateadd(s, pt / 1000, {d '1970-01-01'}) > '\" + minTime + \"' and dateadd(s, pt / 1000, {d '1970-01-01'}) < '\" + maxTime + \"'\" + \\\n",
    "    \" order by M.BetFairMarketId, R.Name, M.StartTime\"\n",
    "    \n",
    "orderBookSql = \"select * from OrderBook where BetFairMarketId = \" + marketId + \" and dateadd(s, pt / 1000, {d '1970-01-01'}) > '\" + minTime + \"' and dateadd(s, pt / 1000, {d '1970-01-01'}) < '\" + maxTime + \"'\"\n",
    "    \n",
    "prices = pd.read_sql(pricesSql,cnxn)\n",
    "orderBook = pd.read_sql(orderBookSql,cnxn)\n",
    "\n",
    "prices['dt'] = prices['pt'].apply(lambda x: dt.datetime.fromtimestamp(x/1000.0))\n",
    "orderBook['dt'] = orderBook['pt'].apply(lambda x: dt.datetime.fromtimestamp(x/1000.0))\n",
    "\n",
    "print ('Prices retrieved: %d'%(prices.shape[0]))\n",
    "print ('Order book entires retrieved: %d'%(orderBook.shape[0]))\n",
    "\n",
    "print ('Min pt: %d, Max pt: %d'%(prices['pt'].min(), prices['pt'].max()))"
   ]
  },
  {
   "cell_type": "code",
   "execution_count": 3,
   "metadata": {
    "collapsed": true
   },
   "outputs": [],
   "source": [
    "pt = 1534545024208\n",
    "\n",
    "def f(pt):\n",
    "    teams = prices.Name.unique()\n",
    "    \n",
    "    previousPt = prices.loc[prices['pt'] < pt]['pt'].max()\n",
    "    nextPt = prices.loc[prices['pt'] > pt]['pt'].min()\n",
    "\n",
    "    previousTime = dt.datetime.fromtimestamp(previousPt/1000.0)\n",
    "    nextTime = dt.datetime.fromtimestamp(nextPt/1000.0)\n",
    "\n",
    "    print ('previousPt: %d, nextPt: %d'%(previousPt, nextPt))\n",
    "    print ('previousTime: %s, nextTime: %s'% (previousTime, nextTime))\n",
    "    \n",
    "    print ('Last price for %s: %f'%(teams[0], prices.loc[(prices['pt'] == previousPt) & (prices['Name'] == teams[0])]['ltp']))\n",
    "    print ('Last price for %s: %f'%(teams[1], prices.loc[(prices['pt'] == previousPt) & (prices['Name'] == teams[1])]['ltp']))\n",
    "    \n",
    "\n",
    "    plt.figure(figsize=(20, 4))\n",
    "    \n",
    "    teamDfs = {}\n",
    "    colors = ['r', 'b']\n",
    "    ix = 0\n",
    "\n",
    "    pricesBeforePt = prices.loc[prices['pt'] < pt]\n",
    "\n",
    "    for team in teams:\n",
    "        #filter to one teams data only\n",
    "        teamData = pricesBeforePt.loc[pricesBeforePt['Name'] == team].copy()\n",
    "\n",
    "        #sort\n",
    "        teamData.sort_values('pt', inplace=True)\n",
    "\n",
    "        #add calculated cols\n",
    "        teamData['prob'] = teamData['ltp'].apply(lambda x: 1/x)\n",
    "\n",
    "        #plot\n",
    "        plt.plot(teamData.dt, teamData.prob, color=colors[ix])\n",
    "        ix = ix + 1\n",
    "\n",
    "    plt.legend(teams, loc='upper left')    \n",
    "    plt.show()\n",
    "    ix = 0\n",
    "\n",
    "    for team in teams:\n",
    "        print(team)\n",
    "        runnerId = prices.loc[prices['Name'] == team].RunnerId.iloc[0]\n",
    "\n",
    "\n",
    "        orderBookForRunnerAtPt = orderBook.loc[orderBook['pt'] == nextPt]\n",
    "        orderBookForRunnerAtPt = orderBookForRunnerAtPt.loc[orderBookForRunnerAtPt['RunnerId'] == runnerId]\n",
    "\n",
    "        #fig, (ax1, ax2, ax3) = plt.subplots(ncols=3, figsize=(20,3), sharey=True)\n",
    "        fig, (ax1, ax2) = plt.subplots(ncols=2, figsize=(20,2.5), sharey=True)\n",
    "\n",
    "        orderBookForRunnerAtPt.loc[orderBookForRunnerAtPt['Type'] == 1].sort_values('Price').plot.bar(x='Price', y='Size', title='Back', ax=ax1, color = colors[ix])\n",
    "        orderBookForRunnerAtPt.loc[orderBookForRunnerAtPt['Type'] == 2].sort_values('Price').plot.bar(x='Price', y='Size', title='Lay', ax=ax2, color = colors[ix])\n",
    "        #orderBookForRunnerAtPt.loc[orderBookForRunnerAtPt['Type'] == 0].sort_values('Price').plot.bar(x='Price', y='Size', title='Trade', ax=ax2, color = colors[ix])\n",
    "\n",
    "        ix = ix + 1\n",
    "\n",
    "        plt.show()"
   ]
  },
  {
   "cell_type": "code",
   "execution_count": 4,
   "metadata": {
    "scrolled": false
   },
   "outputs": [
    {
     "data": {
      "application/vnd.jupyter.widget-view+json": {
       "model_id": "78a45a8472664334aa5a3366ae65478f",
       "version_major": 2,
       "version_minor": 0
      },
      "text/plain": [
       "A Jupyter Widget"
      ]
     },
     "metadata": {},
     "output_type": "display_data"
    },
    {
     "data": {
      "text/plain": [
       "<function __main__.f>"
      ]
     },
     "execution_count": 4,
     "metadata": {},
     "output_type": "execute_result"
    }
   ],
   "source": [
    "min = prices['pt'].min()\n",
    "max = prices['pt'].max()\n",
    "init = min + (max-min)/1.2\n",
    "\n",
    "slider = widgets.IntSlider(min=min, max=max, step=10, continuous_update=False, value=init )\n",
    "interact(f, pt= slider)"
   ]
  }
 ],
 "metadata": {
  "kernelspec": {
   "display_name": "Python 3",
   "language": "python",
   "name": "python3"
  },
  "language_info": {
   "codemirror_mode": {
    "name": "ipython",
    "version": 3
   },
   "file_extension": ".py",
   "mimetype": "text/x-python",
   "name": "python",
   "nbconvert_exporter": "python",
   "pygments_lexer": "ipython3",
   "version": "3.6.3"
  },
  "widgets": {
   "application/vnd.jupyter.widget-state+json": {
    "state": {
     "35ac00fa1efd4ec8b8bec3bfa1233088": {
      "model_module": "@jupyter-widgets/base",
      "model_module_version": "1.0.0",
      "model_name": "LayoutModel",
      "state": {}
     },
     "4e2280d91a1e49d1b4ce298c425b2b94": {
      "model_module": "@jupyter-widgets/base",
      "model_module_version": "1.0.0",
      "model_name": "LayoutModel",
      "state": {}
     },
     "78a45a8472664334aa5a3366ae65478f": {
      "model_module": "@jupyter-widgets/controls",
      "model_module_version": "1.0.0",
      "model_name": "VBoxModel",
      "state": {
       "_dom_classes": [
        "widget-interact"
       ],
       "children": [
        "IPY_MODEL_adfb85fc079f44718137e89fbe1cc9bf",
        "IPY_MODEL_f3b84902d37f49aa8a8dfbf855f3a70d"
       ],
       "layout": "IPY_MODEL_4e2280d91a1e49d1b4ce298c425b2b94"
      }
     },
     "8c8b2520db5b4b92b16ca3ec1bed0699": {
      "model_module": "@jupyter-widgets/base",
      "model_module_version": "1.0.0",
      "model_name": "LayoutModel",
      "state": {}
     },
     "adfb85fc079f44718137e89fbe1cc9bf": {
      "model_module": "@jupyter-widgets/controls",
      "model_module_version": "1.0.0",
      "model_name": "IntSliderModel",
      "state": {
       "continuous_update": false,
       "description": "pt",
       "layout": "IPY_MODEL_8c8b2520db5b4b92b16ca3ec1bed0699",
       "max": 1534823999796,
       "min": 1534823701001,
       "step": 10,
       "style": "IPY_MODEL_ec5be7d30fb540f7b3243e0ac838853d",
       "value": 1534823949996
      }
     },
     "ec5be7d30fb540f7b3243e0ac838853d": {
      "model_module": "@jupyter-widgets/controls",
      "model_module_version": "1.0.0",
      "model_name": "SliderStyleModel",
      "state": {
       "description_width": ""
      }
     },
     "f3b84902d37f49aa8a8dfbf855f3a70d": {
      "model_module": "@jupyter-widgets/output",
      "model_module_version": "1.0.0",
      "model_name": "OutputModel",
      "state": {
       "layout": "IPY_MODEL_35ac00fa1efd4ec8b8bec3bfa1233088",
       "outputs": [
        {
         "name": "stdout",
         "output_type": "stream",
         "text": "previousPt: 1534823949984, nextPt: 1534823950077\npreviousTime: 2018-08-21 13:59:09.984000, nextTime: 2018-08-21 13:59:10.077000\nLast price for Afghanistan: 1.270000\nLast price for Ireland: 5.000000\n"
        },
        {
         "data": {
          "image/png": "iVBORw0KGgoAAAANSUhEUgAABIQAAAD8CAYAAAAG7H+JAAAABHNCSVQICAgIfAhkiAAAAAlwSFlz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\nAAAAAICAIRACAAAAAAAImP8H4vPt5CHj8WwAAAAASUVORK5CYII=\n",
          "text/plain": "<matplotlib.figure.Figure at 0x15c28e552e8>"
         },
         "metadata": {},
         "output_type": "display_data"
        },
        {
         "name": "stdout",
         "output_type": "stream",
         "text": "Afghanistan\n"
        },
        {
         "data": {
          "image/png": "iVBORw0KGgoAAAANSUhEUgAABJQAAADRCAYAAACacOiJAAAABHNCSVQICAgIfAhkiAAAAAlwSFlz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\nSZIkSZIkSUP5/1rxpxbnTdnAAAAAAElFTkSuQmCC\n",
          "text/plain": "<matplotlib.figure.Figure at 0x15c2b1d4438>"
         },
         "metadata": {},
         "output_type": "display_data"
        },
        {
         "name": "stdout",
         "output_type": "stream",
         "text": "Ireland\n"
        },
        {
         "data": {
          "image/png": "iVBORw0KGgoAAAANSUhEUgAABI4AAADdCAYAAADdPjnTAAAABHNCSVQICAgIfAhkiAAAAAlwSFlz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\nE0eSJEmSJEnqZOJIkiRJkiRJnf4/jUVWAfbfTFIAAAAASUVORK5CYII=\n",
          "text/plain": "<matplotlib.figure.Figure at 0x15c2b240f60>"
         },
         "metadata": {},
         "output_type": "display_data"
        }
       ]
      }
     }
    },
    "version_major": 2,
    "version_minor": 0
   }
  }
 },
 "nbformat": 4,
 "nbformat_minor": 2
}
